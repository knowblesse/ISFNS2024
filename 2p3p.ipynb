{
 "cells": [
  {
   "cell_type": "code",
   "id": "initial_id",
   "metadata": {
    "collapsed": true,
    "ExecuteTime": {
     "end_time": "2024-08-03T00:41:15.665365Z",
     "start_time": "2024-08-03T00:41:15.366944Z"
    }
   },
   "source": [
    "import tifffile as tiff\n",
    "import numpy as np\n",
    "from pathlib import Path\n",
    "import matplotlib.pyplot as plt\n",
    "\n",
    "stack3_path = Path('/home/knowblesse/Data/karthala/Karthala_08_02_24/24_08_02/team/stack/stack0003/stack0003_pmt1.tif')\n",
    "img = tiff.imread(stack3_path)*100"
   ],
   "outputs": [],
   "execution_count": 21
  },
  {
   "metadata": {
    "ExecuteTime": {
     "end_time": "2024-08-03T00:41:16.203410Z",
     "start_time": "2024-08-03T00:41:16.198860Z"
    }
   },
   "cell_type": "code",
   "source": "img.shape",
   "id": "73ad322bc04ab07c",
   "outputs": [
    {
     "data": {
      "text/plain": [
       "(200, 512, 512)"
      ]
     },
     "execution_count": 22,
     "metadata": {},
     "output_type": "execute_result"
    }
   ],
   "execution_count": 22
  },
  {
   "metadata": {
    "ExecuteTime": {
     "end_time": "2024-08-03T00:41:17.186957Z",
     "start_time": "2024-08-03T00:41:16.491410Z"
    }
   },
   "cell_type": "code",
   "source": [
    "# movmean\n",
    "img_movmean = np.zeros_like(img)\n",
    "for i in range(img.shape[0]-10):\n",
    "    img_movmean[i] = np.mean(img[i:i+10], axis=0)\n",
    "print(img_movmean.shape)"
   ],
   "id": "540085de2b7e49bb",
   "outputs": [
    {
     "name": "stdout",
     "output_type": "stream",
     "text": [
      "(200, 512, 512)\n"
     ]
    }
   ],
   "execution_count": 23
  },
  {
   "metadata": {
    "ExecuteTime": {
     "end_time": "2024-08-03T00:41:20.625022Z",
     "start_time": "2024-08-03T00:41:20.454187Z"
    }
   },
   "cell_type": "code",
   "source": [
    "# write zstack file\n",
    "output_path = \"output_voi.tif\"\n",
    "tiff.imwrite(output_path, img_movmean)"
   ],
   "id": "31b2a4ef57bbe2d6",
   "outputs": [],
   "execution_count": 24
  },
  {
   "metadata": {
    "ExecuteTime": {
     "end_time": "2024-08-02T23:50:40.284085Z",
     "start_time": "2024-08-02T23:50:39.146421Z"
    }
   },
   "cell_type": "code",
   "source": [
    "plt.hist(np.reshape(img, [-1]), bins=100)\n",
    "plt.xlabel('value')\n",
    "plt.ylabel('pixel count')"
   ],
   "id": "6372bb3d8c399d30",
   "outputs": [
    {
     "data": {
      "text/plain": [
       "Text(0, 0.5, 'pixel count')"
      ]
     },
     "execution_count": 12,
     "metadata": {},
     "output_type": "execute_result"
    },
    {
     "data": {
      "text/plain": [
       "<Figure size 640x480 with 1 Axes>"
      ],
      "image/png": "[encoded data removed]"
     },
     "metadata": {},
     "output_type": "display_data"
    }
   ],
   "execution_count": 12
  },
  {
   "metadata": {},
   "cell_type": "code",
   "outputs": [],
   "execution_count": null,
   "source": "",
   "id": "b70a569ffc404d7d"
  }
 ],
 "metadata": {
  "kernelspec": {
   "display_name": "Python 3",
   "language": "python",
   "name": "python3"
  },
  "language_info": {
   "codemirror_mode": {
    "name": "ipython",
    "version": 2
   },
   "file_extension": ".py",
   "mimetype": "text/x-python",
   "name": "python",
   "nbconvert_exporter": "python",
   "pygments_lexer": "ipython2",
   "version": "2.7.6"
  }
 },
 "nbformat": 4,
 "nbformat_minor": 5
}
